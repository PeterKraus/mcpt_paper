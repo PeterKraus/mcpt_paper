{
 "cells": [
  {
   "cell_type": "markdown",
   "metadata": {},
   "source": [
    "# Towards automation of operando experiments: A case study in contactless conductivity measurements\n",
    "## Supplemental material - Binder landing page\n",
    "\n",
    "Authors: **Peter Kraus**, Elisabeth H. Wolf, Charlotte Prinz, Giulia Bellini, Annette Trunschke, Robert Schlögl\n",
    "Date: 2021-06-22"
   ]
  },
  {
   "cell_type": "markdown",
   "metadata": {},
   "source": [
    "## Contents:\n",
    "\n",
    "- `data`: data required to reproduce figures in the paper\n",
    "- `doc`: tex file of the Supporting information document + figures\n",
    "- `notebooks`: Jupyter notebooks generating figures & tables in the paper\n",
    "- `outputs`: output folder for the above Jupyter notebooks\n",
    "\n",
    "This material is supplemented by the following datasets:\n",
    "\n",
    "- [![DOI](https://zenodo.org/badge/DOI/10.5281/zenodo.5008960.svg)](https://doi.org/10.5281/zenodo.5008960) Operando electronic conductivity data - Handbook protocol results\n",
    "- [![DOI](https://zenodo.org/badge/DOI/10.5281/zenodo.5010992.svg)](https://doi.org/10.5281/zenodo.5010992) Operando electronic conductivity data - Handbook protocol results (other samples)\n",
    "- [![DOI](https://zenodo.org/badge/DOI/10.5281/zenodo.4980210.svg)](https://doi.org/10.5281/zenodo.4980210) Operando electronic conductivity data - Perovskite protocol results"
   ]
  },
  {
   "cell_type": "markdown",
   "metadata": {},
   "source": [
    "## Notebooks:\n",
    "- [bessel.ipynb](notebooks/bessel.ipynb) notebook: draws the Bessel functions (TM$_\\mathrm{020}$ and TM$_\\mathrm{210}$ modes) in Fig. 1 of the paper.\n",
    "- [twomode.ipynb](notebooks/twomode.ipynb) notebook: draws the conductivity traces in Fig. 10 of the paper.\n",
    "- [qftrace.ipynb](notebooks/qftrace.ipynb) notebook: draws the conductivity traces in Fig. 11 of the paper.\n",
    "- [errors.ipynb](notebooks/errors.ipynb) notebook: draws a comparison plot of V<sub>2</sub>O<sub>5</sub> samples in Fig. 12 of the paper.\n",
    "- [repro.ipynb](notebooks/repro.ipynb) notebook: draws the three reproduction studies in Fig. 13 of the paper.\n",
    "- [transient.ipynb](notebooks/transient.ipynb) notebook: draws the transient analysis in Fig. 14 of the paper.\n",
    "- [Ea.ipynb](notebooks/Ea.ipynb) notebook: draws the plot of $E_A(\\sigma)$ vs $S_{\\mathrm{C}_3\\mathrm{H}_6}(5\\%)$ in Fig. 15 of the paper.\n",
    "- [pn_type.ipynb](notebooks/pn_type.ipynb) notebook: draws the plot of showing the p/n-type of semiconductors in Fig. 16 of the paper.\n",
    "- [si_tables.ipynb](notebooks/si_tables.ipynb) notebook: creates the three tables in the SI pdf file.\n"
   ]
  },
  {
   "cell_type": "code",
   "execution_count": null,
   "metadata": {},
   "outputs": [],
   "source": []
  }
 ],
 "metadata": {
  "kernelspec": {
   "display_name": "Python 3",
   "language": "python",
   "name": "python3"
  },
  "language_info": {
   "codemirror_mode": {
    "name": "ipython",
    "version": 3
   },
   "file_extension": ".py",
   "mimetype": "text/x-python",
   "name": "python",
   "nbconvert_exporter": "python",
   "pygments_lexer": "ipython3",
   "version": "3.9.5"
  }
 },
 "nbformat": 4,
 "nbformat_minor": 4
}
