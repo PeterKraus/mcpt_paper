{
 "cells": [
  {
   "cell_type": "code",
   "execution_count": 1,
   "id": "9666c36e-98b2-4634-a020-1a071ecdbe8e",
   "metadata": {},
   "outputs": [],
   "source": [
    "import json\n",
    "import os\n",
    "import matplotlib\n",
    "import matplotlib.pyplot as plt\n",
    "matplotlib.rcParams.update({'font.size': 14})\n",
    "from scipy.optimize import curve_fit\n",
    "from uncertainties import ufloat\n",
    "import numpy as np\n",
    "\n",
    "import matplotlib.patheffects as peff\n",
    "\n",
    "def fnToSymbol(fn):\n",
    "    if \"La\" in fn or \"Pr\" in fn:\n",
    "        return \"v\"\n",
    "    elif \"-C3\" in fn:\n",
    "        return \"o\"\n",
    "    else:\n",
    "        return \"s\"\n",
    "\n",
    "def fnToColor(fn):\n",
    "    if \"V\" in fn:\n",
    "        return \"C3\"\n",
    "    else:\n",
    "        return \"C0\"\n",
    " "
   ]
  },
  {
   "cell_type": "code",
   "execution_count": 2,
   "id": "21fac740-628d-4c34-81fa-513c6be684ed",
   "metadata": {},
   "outputs": [
    {
     "data": {
      "image/png": "[encoded data removed]",
      "text/plain": [
       "<Figure size 288x252 with 1 Axes>"
      ]
     },
     "metadata": {
      "needs_background": "light"
     },
     "output_type": "display_data"
    }
   ],
   "source": [
    "fig, ax = plt.subplots(figsize=(4, 3.5))\n",
    "\n",
    "for folder in [\"other\", \"perovskite\", \"handbook\"]:\n",
    "    files = [i for i in os.listdir(os.path.join(\"..\", \"data\", folder)) if i.endswith(\"json\")]\n",
    "    for fn in files:\n",
    "        with open(os.path.join(\"..\", \"data\", folder, fn)) as infile:\n",
    "            d = json.load(infile)\n",
    "            try:\n",
    "                dl, cl, bl = ax.errorbar(d[\"results\"][\"EA(σ)\"][0], d[\"results\"][\"Spropylene(5%)\"][0],\n",
    "                                         xerr=d[\"results\"][\"EA(σ)\"][1], yerr=d[\"results\"][\"Spropylene(5%)\"][1],\n",
    "                                         color=fnToColor(d[\"metadata\"][\"sample\"][\"name\"]), capsize=2, \n",
    "                                         marker=fnToSymbol(d[\"metadata\"][\"sample\"][\"name\"]), \n",
    "                                         markeredgecolor=\"k\", markersize=8, alpha=0.8)\n",
    "                for c in cl:\n",
    "                    c.set_path_effects([peff.withStroke(linewidth=1, foreground='k')])\n",
    "            except KeyError:\n",
    "                continue\n",
    "ax.set_xlabel(r\"E$_A(\\sigma)$ [kJ/mol]\")\n",
    "ax.set_ylabel(r\"$S_{\\mathrm{C}_3\\mathrm{H}_6}$(5%) [%]\")\n",
    "ax.tick_params(axis=\"x\", top=True, labeltop=False, bottom=True, labelbottom=True)\n",
    "ax.tick_params(axis=\"y\", left=True, labelleft=True, right=True, labelright=False)\n",
    "ax.set_ylim(bottom=0, top=80)\n",
    "plt.tight_layout()\n",
    "plt.show()\n",
    "fig.savefig(os.path.join(\"..\", \"outputs\", \"Ea_S.pdf\"), dpi=300, format=\"pdf\", pad_inches=0.1, bbox_inches=\"tight\")"
   ]
  },
  {
   "cell_type": "code",
   "execution_count": null,
   "id": "10f3e7bf-e2fb-405c-a73c-d95b4954cc23",
   "metadata": {},
   "outputs": [],
   "source": []
  }
 ],
 "metadata": {
  "kernelspec": {
   "display_name": "Python 3",
   "language": "python",
   "name": "python3"
  },
  "language_info": {
   "codemirror_mode": {
    "name": "ipython",
    "version": 3
   },
   "file_extension": ".py",
   "mimetype": "text/x-python",
   "name": "python",
   "nbconvert_exporter": "python",
   "pygments_lexer": "ipython3",
   "version": "3.9.5"
  }
 },
 "nbformat": 4,
 "nbformat_minor": 5
}
