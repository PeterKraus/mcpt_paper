{
 "cells": [
  {
   "cell_type": "markdown",
   "metadata": {},
   "source": [
    "Load data and assign colours"
   ]
  },
  {
   "cell_type": "code",
   "execution_count": 1,
   "metadata": {},
   "outputs": [],
   "source": [
    "import json\n",
    "import os\n",
    "from uncertainties import ufloat\n",
    "import matplotlib\n",
    "import matplotlib.pyplot as plt\n",
    "matplotlib.rcParams.update({'font.size': 14})"
   ]
  },
  {
   "cell_type": "code",
   "execution_count": 2,
   "metadata": {},
   "outputs": [],
   "source": [
    "d = {}\n",
    "d[\"31034\"] = json.load(open(os.path.join(\"..\", \"data\", \"ex_errors\", \"2019-12-03-31034-propane-01.results.json\"), \"r\"))\n",
    "d[\"31846\"] = json.load(open(os.path.join(\"..\", \"data\", \"ex_errors\", \"2019-11-01-31846-ex-31034-propane-01.results.json\"), \"r\"))\n",
    "d[\"31034\"][\"c\"] = \"C0\"\n",
    "d[\"31846\"][\"c\"] = \"C1\""
   ]
  },
  {
   "cell_type": "markdown",
   "metadata": {},
   "source": [
    "Plot GHSV variation points on a X/S graph."
   ]
  },
  {
   "cell_type": "code",
   "execution_count": 3,
   "metadata": {},
   "outputs": [
    {
     "data": {
      "image/png": "[encoded data removed]",
      "text/plain": [
       "<Figure size 432x432 with 5 Axes>"
      ]
     },
     "metadata": {
      "needs_background": "light"
     },
     "output_type": "display_data"
    }
   ],
   "source": [
    "fig = plt.figure(figsize=(6,6))\n",
    "grid = plt.GridSpec(100, 100, wspace=0.1, hspace=0.1, figure=fig)\n",
    "ax = []\n",
    "\n",
    "ax.append(plt.subplot(grid[60:, :50]))\n",
    "ax.append(plt.subplot(grid[60:, 55:65]))\n",
    "ax.append(plt.subplot(grid[60:, 67:]))\n",
    "ax.append(plt.subplot(grid[:45, :]))\n",
    "ax.append(ax[-1].twinx())\n",
    "\n",
    "for sample in d:\n",
    "    X = []\n",
    "    S = {\"CO\":[], \"CO2\":[], \"propylene\":[]}\n",
    "    T = []\n",
    "    dp = {\"σ\": [], \"ε'b\": [], 'ε\"b': []}\n",
    "    tstart = d[sample][\"sections\"][0][\"uts0\"]\n",
    "    for sec in d[sample][\"sections\"]:\n",
    "        if sec[\"id\"] in [\"02\",\"03\",\"04\",\"05\",\"06\"]:\n",
    "            X.append(ufloat(*sec[\"Xp\"]))\n",
    "            S[\"CO\"].append(ufloat(*sec[\"Sp\"][\"CO\"]))\n",
    "            S[\"CO2\"].append(ufloat(*sec[\"Sp\"][\"CO2\"]))\n",
    "            S[\"propylene\"].append(ufloat(*sec[\"Sp\"][\"propylene\"]))\n",
    "        if sec[\"id\"] in [\"06\", \"07\", \"08\", \"09\"]:\n",
    "            T.append(ufloat(*sec[\"T\"]))\n",
    "            for key in dp:\n",
    "                dp[key].append(ufloat(*sec[key]))\n",
    "        if \"Xp\" in sec.keys():\n",
    "            ax[3].plot(((sec[\"uts0\"] - tstart)/3600, (sec[\"uts1\"] - tstart)/3600), (sec[\"Xp\"][0], sec[\"Xp\"][0]),\n",
    "                   color = d[sample][\"c\"], marker = \" \")\n",
    "        if \"σ\" in sec.keys():\n",
    "            ax[4].plot(((sec[\"uts0\"] - tstart)/3600, (sec[\"uts1\"] - tstart)/3600), (sec[\"σ\"][0], sec[\"σ\"][0]),\n",
    "                   color = d[sample][\"c\"], marker = \" \", linestyle = \"--\")\n",
    "    ax[0].errorbar([i.n for i in X], [i.n for i in S[\"CO2\"]],\n",
    "                     xerr = [i.s for i in X], yerr = [i.s for i in S[\"CO2\"]],\n",
    "                     marker = \"^\", linestyle = \"\", color = d[sample][\"c\"])\n",
    "    ax[0].errorbar([i.n for i in X], [i.n for i in S[\"CO\"]],\n",
    "                     xerr = [i.s for i in X], yerr = [i.s for i in S[\"CO\"]],\n",
    "                     marker = \"v\", linestyle = \"\", color = d[sample][\"c\"])\n",
    "    ax[0].errorbar([i.n for i in X], [i.n for i in S[\"propylene\"]],\n",
    "                     xerr = [i.s for i in X], yerr = [i.s for i in S[\"CO2\"]],\n",
    "                     marker = \"o\", linestyle = \"\", color = d[sample][\"c\"], fillstyle=\"none\")\n",
    "    ax[1].errorbar(225, d[sample][\"results\"][\"σr\"][0],\n",
    "                   yerr = d[sample][\"results\"][\"σr\"][1], fillstyle=\"none\",\n",
    "                   marker = \"s\", linestyle = \"\", color = d[sample][\"c\"])\n",
    "    ax[2].errorbar([i.n for i in T], [i.n for i in dp[\"σ\"]],\n",
    "                     xerr = [i.s for i in T], yerr = [i.s for i in dp[\"σ\"]],\n",
    "                     marker = \"s\", linestyle = \"\", color = d[sample][\"c\"])\n",
    "    \n",
    "ax[0].tick_params(left=True, right=True, bottom=True, top=True,\n",
    "                  labelleft=True, labelright=False, labeltop=False, labelbottom=True)\n",
    "ax[1].tick_params(left=True, right=False, bottom=True, top=True,\n",
    "                  labelleft=False, labelright=False, labeltop=False, labelbottom=True)\n",
    "ax[2].tick_params(left=False, right=True, bottom=True, top=True,\n",
    "                  labelleft=False, labelright=True, labeltop=False, labelbottom=True)\n",
    "ax[3].tick_params(left=True, right=False, bottom=True, top=True,\n",
    "                  labelleft=True, labelright=False, labeltop=False, labelbottom=True)\n",
    "\n",
    "\n",
    "ax[0].set_xlim(left=0,right=60)\n",
    "ax[0].set_ylim(bottom=0, top=80)\n",
    "ax[0].set_xlabel(\"X [%]\")\n",
    "ax[0].xaxis.set_label_coords(0.5,-0.15)\n",
    "ax[0].set_ylabel(\"S [%]\")\n",
    "\n",
    "ax[1].spines['right'].set_visible(False)\n",
    "ax[2].spines['left'].set_visible(False)\n",
    "br = 0.015\n",
    "wr = 3\n",
    "kwargs = dict(transform=ax[1].transAxes, color='k', clip_on=False)\n",
    "#ax[1].plot((1-br,1+br), (-br,+br), **kwargs)\n",
    "#ax[1].plot((1-br,1+br),(1-br,1+br), **kwargs)\n",
    "ax[1].plot((1-br*wr,1+br*wr), (1-br,1+br), **kwargs)\n",
    "ax[1].plot((1-br*wr,1+br*wr), (-br,+br), **kwargs)\n",
    "kwargs.update(transform=ax[2].transAxes)  # switch to the bottom axes\n",
    "ax[2].plot((-br,+br), (1-br,1+br), **kwargs)\n",
    "ax[2].plot((-br,+br), (-br,+br), **kwargs)\n",
    "\n",
    "for a in ax[1:3]:\n",
    "    a.set_ylim(bottom=0.3, top=1.7)\n",
    "    a.set_ylim(bottom=0.3, top=1.7)\n",
    "ax[1].set_xlim(left=221, right=229)\n",
    "ax[1].set_xticks([225])\n",
    "ax[2].set_xlim(left=390, right=460)\n",
    "ax[2].set_xticks([400,425,450])\n",
    "ax[2].set_xlabel(\"T [°C]\")\n",
    "ax[2].xaxis.set_label_coords(0.35,-0.15)\n",
    "ax[2].yaxis.set_label_position(\"right\")\n",
    "ax[2].set_ylabel(\"σ$_\\mathrm{b}$'(ω) [S/m]\")\n",
    "\n",
    "ax[3].set_ylim(bottom=0, top=100)\n",
    "ax[3].set_xlim(left=5, right=21)\n",
    "ax[3].set_ylabel(\"X [%]\")\n",
    "ax[3].set_xlabel(\"t [h]\")\n",
    "ax[3].set_yticks([0,10,20,30,40,50,60])\n",
    "ax[3].yaxis.set_label_coords(-0.08,0.3)\n",
    "\n",
    "ax[4].set_ylim(bottom=0, top=2.0)\n",
    "ax[4].set_yticks([1.0,1.2,1.4,1.6,1.8,2])\n",
    "ax[4].set_ylabel(\"σ$_\\mathrm{b}$'(ω) [S/m]\")\n",
    "ax[4].yaxis.set_label_coords(1.10,0.75)\n",
    "\n",
    "ax[2].text(0.01,0.95,\"O$_2$/N$_2$\", transform=ax[1].transAxes, ha=\"left\", va=\"top\")\n",
    "ax[2].text(0.06,0.95,\"C$_3$H$_8$/O$_2$/N$_2$\", transform=ax[2].transAxes, ha=\"left\", va=\"top\")\n",
    "ax[3].text(0.05,0.95,\"GHSV variation\", transform=ax[3].transAxes, ha=\"left\", va=\"top\")\n",
    "ax[4].text(0.60,0.95,\"T variation\", transform=ax[3].transAxes, ha=\"left\", va=\"top\")\n",
    "\n",
    "ax[1].set_facecolor(\"#f7fcfd\")\n",
    "ax[2].set_facecolor(\"#fff5eb\")\n",
    "\n",
    "ax[4].plot((13.75,13.75),(0,100), color=\"k\", marker=\"\", linestyle=\"-\", linewidth=0.5)\n",
    "\n",
    "ax[0].text(0.01, 0, \"B)\", transform=ax[0].transAxes, ha=\"left\", va=\"bottom\")\n",
    "ax[2].text(0.99, 0, \"C)\", transform=ax[2].transAxes, ha=\"right\", va=\"bottom\")\n",
    "ax[3].text(0.01, 0, \"A)\", transform=ax[3].transAxes, ha=\"left\", va=\"bottom\")\n",
    "\n",
    "fig.savefig(os.path.join(\"..\",\"outputs\",\"v2o5_handbook.pdf\"), dpi=300, format=\"pdf\", pad_inches=0.1, bbox_inches=\"tight\")\n",
    "plt.show()"
   ]
  },
  {
   "cell_type": "code",
   "execution_count": null,
   "metadata": {},
   "outputs": [],
   "source": []
  },
  {
   "cell_type": "code",
   "execution_count": null,
   "metadata": {},
   "outputs": [],
   "source": []
  }
 ],
 "metadata": {
  "kernelspec": {
   "display_name": "Python 3",
   "language": "python",
   "name": "python3"
  },
  "language_info": {
   "codemirror_mode": {
    "name": "ipython",
    "version": 3
   },
   "file_extension": ".py",
   "mimetype": "text/x-python",
   "name": "python",
   "nbconvert_exporter": "python",
   "pygments_lexer": "ipython3",
   "version": "3.9.5"
  }
 },
 "nbformat": 4,
 "nbformat_minor": 4
}
