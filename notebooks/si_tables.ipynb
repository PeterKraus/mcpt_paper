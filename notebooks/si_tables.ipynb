{
 "cells": [
  {
   "cell_type": "code",
   "execution_count": 1,
   "id": "9aa5f0f1-1438-4b6b-9939-428bd1fdbbda",
   "metadata": {},
   "outputs": [],
   "source": [
    "import json\n",
    "import os\n",
    "import string\n",
    "from uncertainties import ufloat"
   ]
  },
  {
   "cell_type": "code",
   "execution_count": 2,
   "id": "95274b67-ab7c-4f1d-abbc-1ff5fa1f4135",
   "metadata": {},
   "outputs": [],
   "source": [
    "def printTable(data, filename):\n",
    "    table = []\n",
    "    table.append(r\"\\begin{tabular}{l|l|r|r|r|r|r|r|r|r}\")\n",
    "    table.append(r\"Sample name & Sample ID & $\\sigma_r$& $E_A(\\sigma)$ & \"\n",
    "                 r\"$\\Delta \\sigma (\\phi)$ & $\\Delta \\sigma (\\tau)$ & \"\n",
    "                 r\"$E_A(X/m)$ & $\\Delta X(\\tau)/X$ & $S_{\\mathrm{CO}_x}(5\\%)$ & $S_{\\mathrm{C}_3\\mathrm{H}_6}(5\\%)$\\\\\")\n",
    "    table.append(r\" & & [S/m] & [kJ/mol] & [S/m] & [S/ms] & [kJ/mol] & [\\%] & [\\%] & [\\%]\\\\\")\n",
    "    table.append(\"\\hline\")\n",
    "    for name in sorted(data):\n",
    "        n = name.replace(\"0\", \"$_0$\").replace(\"1\", \"$_1$\").replace(\"2\", \"$_2$\").replace(\"3\", \"$_3$\").replace(\"4\", \"$_4$\")\n",
    "        n = n.replace(\"5\", \"$_5$\").replace(\"6\", \"$_6$\").replace(\"7\", \"$_7$\").replace(\"8\", \"$_8$\").replace(\"9\", \"$_9$\")\n",
    "        n = n.replace(\".\", \"$_.$\").replace(\"a-\", \"$\\\\alpha$-\").replace(\"b-\", \"$\\\\beta$-\")\n",
    "        strn = f\"{n} & {data[name]['id']} & {data[name]['σr']} & {data[name]['EA(σ)']} & {data[name]['Δσ(ϕ)']} \"\n",
    "        strn += f\"& {data[name]['Δσ(τ)']} & {data[name]['EA(X/m)']}  & {data[name]['ΔX(τ)/X']}\"\n",
    "        strn += f\"& {data[name]['SCOx(5%)']} & {data[name]['Spropylene(5%)']}\"\n",
    "        strn += r\"\\\\\"\n",
    "        table.append(strn)\n",
    "    table.append(r\"\\hline\")\n",
    "    table.append(r\"\\end{tabular}\")\n",
    "    with open(os.path.join(\"..\",\"outputs\",filename), \"w\") as outfile:\n",
    "        outfile.write(\"\\n\".join(table))"
   ]
  },
  {
   "cell_type": "code",
   "execution_count": 3,
   "id": "9d9fd583-c307-494b-95fb-cfdcebb297a6",
   "metadata": {},
   "outputs": [],
   "source": [
    "jsons = [fn for fn in os.listdir(os.path.join(\"..\", \"data\", \"perovskite\")) if fn.endswith(\"json\")]\n",
    "data = {}\n",
    "for fn in jsons:\n",
    "    with open(os.path.join(\"..\", \"data\", \"perovskite\", fn), \"r\") as infile:\n",
    "        jsdata = json.load(infile)\n",
    "    data[jsdata[\"metadata\"][\"sample\"][\"name\"]] = {\n",
    "        \"id\": f\"{jsdata['metadata']['sample']['id']}\",\n",
    "        \"σr\": f\"${ufloat(*jsdata['results']['σr']):.1ufS}$\",\n",
    "        \"Δσ(τ)\": f\"${ufloat(*jsdata['results']['Δσ(τ)']):.1ufS}$\",\n",
    "        \"Δσ(ϕ)\": f\"${ufloat(*jsdata['results']['Δσ(ϕ)']):.1ufS}$\",\n",
    "        \"EA(σ)\": f\"${ufloat(*jsdata['results']['EA(σ)'][:2]):.1ufS}$\",\n",
    "        \"EA(X/m)\": f\"${ufloat(*jsdata['results']['EA(X/m)']):.1ufS}$\",\n",
    "        \"ΔX(τ)/X\": f\"${ufloat(*jsdata['results']['ΔX(τ)/X']):2.0fS}$\"\n",
    "    }\n",
    "    if \"SCOx(5%)\" in jsdata[\"results\"]:\n",
    "        data[jsdata[\"metadata\"][\"sample\"][\"name\"]][\"SCOx(5%)\"] = f\"{ufloat(*jsdata['results']['SCOx(5%)']):.1ufS}\"\n",
    "    else:\n",
    "        data[jsdata[\"metadata\"][\"sample\"][\"name\"]][\"SCOx(5%)\"] = f\"--\"\n",
    "    if \"Spropylene(5%)\" in jsdata[\"results\"]:\n",
    "        data[jsdata[\"metadata\"][\"sample\"][\"name\"]][\"Spropylene(5%)\"] = f\"{ufloat(*jsdata['results']['Spropylene(5%)']):.1ufS}\"\n",
    "    else:\n",
    "        data[jsdata[\"metadata\"][\"sample\"][\"name\"]][\"Spropylene(5%)\"] = f\"--\"\n",
    "printTable(data, \"si_perovskites.tex\")"
   ]
  },
  {
   "cell_type": "code",
   "execution_count": 4,
   "id": "7db80018-4d7d-4b6e-8eb8-634288ef0fb8",
   "metadata": {},
   "outputs": [],
   "source": [
    "jsons = [fn for fn in os.listdir(os.path.join(\"..\", \"data\", \"handbook\")) if fn.endswith(\"json\")]\n",
    "data = {}\n",
    "for fn in jsons:\n",
    "    with open(os.path.join(\"..\", \"data\", \"handbook\", fn), \"r\") as infile:\n",
    "        jsdata = json.load(infile)\n",
    "    data[jsdata[\"metadata\"][\"sample\"][\"name\"]] = {\n",
    "        \"id\": f\"{jsdata['metadata']['sample']['id']}\",\n",
    "        \"σr\": f\"${ufloat(*jsdata['results']['σr']):.1ufS}$\",\n",
    "        \"Δσ(τ)\": f\"${ufloat(*jsdata['results']['Δσ(τ)']):.1ufS}$\",\n",
    "        \"Δσ(ϕ)\": f\"${ufloat(*jsdata['results']['Δσ(ϕ)']):.1ufS}$\",\n",
    "        \"EA(σ)\": f\"${ufloat(*jsdata['results']['EA(σ)'][:2]):.1ufS}$\",\n",
    "        \"EA(X/m)\": f\"${ufloat(*jsdata['results']['EA(X/m)']):.1ufS}$\",\n",
    "        \"ΔX(τ)/X\": f\"${ufloat(*jsdata['results']['ΔX(τ)/X']):2.0fS}$\"\n",
    "    }\n",
    "    if \"SCOx(5%)\" in jsdata[\"results\"]:\n",
    "        data[jsdata[\"metadata\"][\"sample\"][\"name\"]][\"SCOx(5%)\"] = f\"{ufloat(*jsdata['results']['SCOx(5%)']):.1ufS}\"\n",
    "    else:\n",
    "        data[jsdata[\"metadata\"][\"sample\"][\"name\"]][\"SCOx(5%)\"] = f\"--\"\n",
    "    if \"Spropylene(5%)\" in jsdata[\"results\"]:\n",
    "        data[jsdata[\"metadata\"][\"sample\"][\"name\"]][\"Spropylene(5%)\"] = f\"{ufloat(*jsdata['results']['Spropylene(5%)']):.1ufS}\"\n",
    "    else:\n",
    "        data[jsdata[\"metadata\"][\"sample\"][\"name\"]][\"Spropylene(5%)\"] = f\"--\"\n",
    "printTable(data, \"si_handbook.tex\")"
   ]
  },
  {
   "cell_type": "code",
   "execution_count": 5,
   "id": "ae3321d8-b9aa-40a7-b748-7f9562267e65",
   "metadata": {},
   "outputs": [],
   "source": [
    "jsons = [fn for fn in os.listdir(os.path.join(\"..\", \"data\", \"other\")) if fn.endswith(\"json\")]\n",
    "data = {}\n",
    "for fn in jsons:\n",
    "    with open(os.path.join(\"..\", \"data\", \"other\", fn), \"r\") as infile:\n",
    "        jsdata = json.load(infile)\n",
    "    data[jsdata[\"metadata\"][\"sample\"][\"name\"]] = {\n",
    "        \"id\": f\"{jsdata['metadata']['sample']['id']}\",\n",
    "        \"σr\": f\"${ufloat(*jsdata['results']['σr']):.1ufS}$\",\n",
    "        \"Δσ(τ)\": f\"${ufloat(*jsdata['results']['Δσ(τ)']):.1ufS}$\",\n",
    "        \"Δσ(ϕ)\": f\"${ufloat(*jsdata['results']['Δσ(ϕ)']):.1ufS}$\",\n",
    "        \"EA(σ)\": f\"${ufloat(*jsdata['results']['EA(σ)'][:2]):.1ufS}$\",\n",
    "        \"EA(X/m)\": f\"${ufloat(*jsdata['results']['EA(X/m)']):.1ufS}$\",\n",
    "        \"ΔX(τ)/X\": f\"${ufloat(*jsdata['results']['ΔX(τ)/X']):2.0fS}$\"\n",
    "    }\n",
    "    if \"SCOx(5%)\" in jsdata[\"results\"]:\n",
    "        data[jsdata[\"metadata\"][\"sample\"][\"name\"]][\"SCOx(5%)\"] = f\"{ufloat(*jsdata['results']['SCOx(5%)']):.1ufS}\"\n",
    "    else:\n",
    "        data[jsdata[\"metadata\"][\"sample\"][\"name\"]][\"SCOx(5%)\"] = f\"--\"\n",
    "    if \"Spropylene(5%)\" in jsdata[\"results\"]:\n",
    "        data[jsdata[\"metadata\"][\"sample\"][\"name\"]][\"Spropylene(5%)\"] = f\"{ufloat(*jsdata['results']['Spropylene(5%)']):.1ufS}\"\n",
    "    else:\n",
    "        data[jsdata[\"metadata\"][\"sample\"][\"name\"]][\"Spropylene(5%)\"] = f\"--\"\n",
    "printTable(data, \"si_other.tex\")"
   ]
  },
  {
   "cell_type": "code",
   "execution_count": null,
   "id": "ab6083e5-7e0a-4427-9f89-16c96b7c7905",
   "metadata": {},
   "outputs": [],
   "source": []
  }
 ],
 "metadata": {
  "kernelspec": {
   "display_name": "Python 3 (ipykernel)",
   "language": "python",
   "name": "python3"
  },
  "language_info": {
   "codemirror_mode": {
    "name": "ipython",
    "version": 3
   },
   "file_extension": ".py",
   "mimetype": "text/x-python",
   "name": "python",
   "nbconvert_exporter": "python",
   "pygments_lexer": "ipython3",
   "version": "3.9.6"
  }
 },
 "nbformat": 4,
 "nbformat_minor": 5
}
